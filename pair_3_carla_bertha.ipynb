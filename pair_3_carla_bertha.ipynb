{
 "cells": [
  {
   "cell_type": "markdown",
   "metadata": {},
   "source": [
    "## Pair programming - RegEx"
   ]
  },
  {
   "cell_type": "code",
   "execution_count": 25,
   "metadata": {},
   "outputs": [
    {
     "name": "stdout",
     "output_type": "stream",
     "text": [
      "El número (123) 456-7890 cumple el formato ✅.\n",
      "El número 178 1890-733 no cumple el formato ❌.\n",
      "El número (555) 238-1987 cumple el formato ✅.\n",
      "El número (123) 4560-7890 no cumple el formato ❌.\n",
      "El número (ABC) 098-1111 no cumple el formato ❌.\n"
     ]
    }
   ],
   "source": [
    "import re\n",
    "\n",
    "# Ejercicio 1. Validar número teléfono (XXX) XXX-XXXX\n",
    "\n",
    "telefonos = [\"(123) 456-7890\", \"178 1890-733\", \"(555) 238-1987\", \"(123) 4560-7890\", \"(ABC) 098-1111\"]\n",
    "\n",
    "for tel in telefonos:\n",
    "    respuesta = re.match(r\"^\\(\\d{3}\\) \\d{3}-\\d{4}$\", tel)\n",
    "    if respuesta:\n",
    "        print (f\"El número {tel} cumple el formato ✅.\")\n",
    "    else: \n",
    "        print (f\"El número {tel} no cumple el formato ❌.\")\n"
   ]
  },
  {
   "cell_type": "code",
   "execution_count": 36,
   "metadata": {},
   "outputs": [
    {
     "name": "stdout",
     "output_type": "stream",
     "text": [
      "['doe@email.com']\n"
     ]
    }
   ],
   "source": [
    "# Ejercicio 2. Buscar todas las direcciones de correo electrónico en un texto. Formato: user@example.com.\n",
    "\n",
    "texto = \"Mi correo es user@example.com. Contacta conmigo en john.doe@email.com\"\n",
    "\n",
    "\n",
    "todas_las_direcciones = re.findall(r\"\\w+@\\w+\\.com$\", texto)\n",
    "\n",
    "print(todas_las_direcciones)"
   ]
  }
 ],
 "metadata": {
  "kernelspec": {
   "display_name": "base",
   "language": "python",
   "name": "python3"
  },
  "language_info": {
   "codemirror_mode": {
    "name": "ipython",
    "version": 3
   },
   "file_extension": ".py",
   "mimetype": "text/x-python",
   "name": "python",
   "nbconvert_exporter": "python",
   "pygments_lexer": "ipython3",
   "version": "3.9.-1"
  }
 },
 "nbformat": 4,
 "nbformat_minor": 2
}
