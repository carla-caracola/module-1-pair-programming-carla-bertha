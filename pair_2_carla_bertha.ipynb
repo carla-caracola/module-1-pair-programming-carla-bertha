{
 "cells": [
  {
   "cell_type": "markdown",
   "metadata": {},
   "source": [
    "## Pair programming - Classes"
   ]
  },
  {
   "cell_type": "code",
   "execution_count": 18,
   "metadata": {},
   "outputs": [
    {
     "name": "stdout",
     "output_type": "stream",
     "text": [
      "The employee Carla Biscotti, works as a Data Analyst in the company, and has 15 holidays left\n"
     ]
    }
   ],
   "source": [
    "# ejercicio 1. crear una clase para gestionar los empleados de una empresa\n",
    "\n",
    "# atributos: nombre, apellidos, edad, posicion, año , vacaciones(cantidad de días de vacaciones que le quedan al empleado) y herramientas\n",
    "\n",
    "# métodos: descripción, cambiando_posicion, calcular_antiguedad, solicitar_aumento_vacaciones, registrar_herramienta, cambiar_posicion, tomar_vacaciones, solicitar_aumento_salario, reaizar_evaluacion\n",
    "\n",
    "import datetime\n",
    "\n",
    "class Empleados():\n",
    "    \n",
    "    def __init__(self, name, surname, age, position, year, holidays_left, tools):\n",
    "        self.name = name\n",
    "        self.surname = surname\n",
    "        self.age = age\n",
    "        self.position = position\n",
    "        self.year = year\n",
    "        self.holidays_left = holidays_left\n",
    "        self.tools = tools\n",
    "    \n",
    "    def description (self):\n",
    "        print (f\"The employee {self.name} {self.surname}, works as a {self.position} in the company, and has {self.holidays_left} holidays left\")\n",
    "    \n",
    "    def changing_tools (self):\n",
    "        for item in self.tools:\n",
    "            if item == \"python\":\n",
    "                print (f\"You are a champion for using {item}!\")\n",
    "            else:\n",
    "                pass\n",
    "            if item == \"excel\":\n",
    "                print (f\"{item} uhh?, you should try Python instead!\")\n",
    "\n",
    "    def employee_seniority (self):\n",
    "        today = datetime.datetime.now()\n",
    "        year_today = today.year\n",
    "        month_today = today.month\n",
    "\n",
    "        years_in_company = year_today - self.year \n",
    "        months_in_company = month_today\n",
    "        print (f\"{self.name} has been working in the company for {years_in_company} years and {months_in_company} months.\")\n",
    "        \n",
    "carla = Empleados(\"Carla\", \"Biscotti\", 35, \"Data Analyst\", 2022, 15, [\"python\", \"jira\", \"power bi\"])\n",
    "\n",
    "carla.__dict__\n",
    "\n",
    "carla.description()\n"
   ]
  }
 ],
 "metadata": {
  "kernelspec": {
   "display_name": "base",
   "language": "python",
   "name": "python3"
  },
  "language_info": {
   "codemirror_mode": {
    "name": "ipython",
    "version": 3
   },
   "file_extension": ".py",
   "mimetype": "text/x-python",
   "name": "python",
   "nbconvert_exporter": "python",
   "pygments_lexer": "ipython3",
   "version": "3.9.undefined"
  }
 },
 "nbformat": 4,
 "nbformat_minor": 2
}
