{
 "cells": [
  {
   "cell_type": "markdown",
   "metadata": {},
   "source": [
    "## Pair programming - functions"
   ]
  },
  {
   "cell_type": "code",
   "execution_count": 1,
   "metadata": {},
   "outputs": [
    {
     "data": {
      "text/plain": [
       "28.27431"
      ]
     },
     "execution_count": 1,
     "metadata": {},
     "output_type": "execute_result"
    }
   ],
   "source": [
    "# 1. Calcular el area de un círculo\n",
    "\n",
    "def calcular_area_circulo (radio):\n",
    "    area =  3.14159 * (radio ** 2)\n",
    "    return area \n",
    "\n",
    "calcular_area_circulo (3)\n",
    "\n",
    "\n"
   ]
  },
  {
   "cell_type": "code",
   "execution_count": 4,
   "metadata": {},
   "outputs": [
    {
     "data": {
      "text/plain": [
       "21"
      ]
     },
     "execution_count": 4,
     "metadata": {},
     "output_type": "execute_result"
    }
   ],
   "source": [
    "# 2. Contar la cantidad de caracteres en una cadena\n",
    "\n",
    "def contar_caracteres (cadena):\n",
    "    cant__caracteres = len(cadena)\n",
    "    return cant__caracteres\n",
    "\n",
    "\n",
    "contar_caracteres (\"Contar la cantidad de\")\n"
   ]
  },
  {
   "cell_type": "code",
   "execution_count": 5,
   "metadata": {},
   "outputs": [
    {
     "data": {
      "text/plain": [
       "150.0"
      ]
     },
     "execution_count": 5,
     "metadata": {},
     "output_type": "execute_result"
    }
   ],
   "source": [
    "# 5. Calcular el interes compuesto\n",
    "#beneficio final despues del interes compuesto\n",
    "\n",
    "def calcular_interes_compuesto (cap_inicial, tasa, periodos):\n",
    "    interes_compuesto = cap_inicial * tasa * periodos\n",
    "    return interes_compuesto\n",
    "\n",
    "calcular_interes_compuesto (1000, 0.05, 3)\n",
    "    "
   ]
  },
  {
   "cell_type": "code",
   "execution_count": 7,
   "metadata": {},
   "outputs": [
    {
     "data": {
      "text/plain": [
       "True"
      ]
     },
     "execution_count": 7,
     "metadata": {},
     "output_type": "execute_result"
    }
   ],
   "source": [
    "# 7. Validar si una cadena de texto es un isograma\n",
    "\n",
    "def es_isograma (cadena):\n",
    "    lista_letras_extistentes = []\n",
    "    for letra in cadena:\n",
    "        if letra in lista_letras_extistentes:\n",
    "            return False\n",
    "        else:\n",
    "            lista_letras_extistentes.append(letra)\n",
    "    return True\n",
    "\n",
    "es_isograma (\"casihjk\")\n"
   ]
  },
  {
   "cell_type": "code",
   "execution_count": 13,
   "metadata": {},
   "outputs": [
    {
     "ename": "ValueError",
     "evalue": "dictionary update sequence element #0 has length 1; 2 is required",
     "output_type": "error",
     "traceback": [
      "\u001b[0;31m---------------------------------------------------------------------------\u001b[0m",
      "\u001b[0;31mValueError\u001b[0m                                Traceback (most recent call last)",
      "Input \u001b[0;32mIn [13]\u001b[0m, in \u001b[0;36m<cell line: 9>\u001b[0;34m()\u001b[0m\n\u001b[1;32m      6\u001b[0m         diccionario_persona\u001b[38;5;241m.\u001b[39mupdate(elemento)\n\u001b[1;32m      7\u001b[0m     \u001b[38;5;28;01mreturn\u001b[39;00m diccionario_persona\n\u001b[0;32m----> 9\u001b[0m \u001b[43mcrear_persona\u001b[49m\u001b[43m \u001b[49m\u001b[43m(\u001b[49m\u001b[43mnombre\u001b[49m\u001b[38;5;241;43m=\u001b[39;49m\u001b[43m \u001b[49m\u001b[38;5;124;43m\"\u001b[39;49m\u001b[38;5;124;43mKarolina\u001b[39;49m\u001b[38;5;124;43m\"\u001b[39;49m\u001b[43m,\u001b[49m\u001b[43m \u001b[49m\u001b[43medad\u001b[49m\u001b[38;5;241;43m=\u001b[39;49m\u001b[38;5;241;43m33\u001b[39;49m\u001b[43m,\u001b[49m\u001b[43m \u001b[49m\u001b[43mciudad\u001b[49m\u001b[38;5;241;43m=\u001b[39;49m\u001b[43m \u001b[49m\u001b[38;5;124;43m\"\u001b[39;49m\u001b[38;5;124;43mMadrid\u001b[39;49m\u001b[38;5;124;43m\"\u001b[39;49m\u001b[43m)\u001b[49m\n",
      "Input \u001b[0;32mIn [13]\u001b[0m, in \u001b[0;36mcrear_persona\u001b[0;34m(**kwargs)\u001b[0m\n\u001b[1;32m      4\u001b[0m diccionario_persona \u001b[38;5;241m=\u001b[39m {}\n\u001b[1;32m      5\u001b[0m \u001b[38;5;28;01mfor\u001b[39;00m elemento \u001b[38;5;129;01min\u001b[39;00m kwargs:\n\u001b[0;32m----> 6\u001b[0m     \u001b[43mdiccionario_persona\u001b[49m\u001b[38;5;241;43m.\u001b[39;49m\u001b[43mupdate\u001b[49m\u001b[43m(\u001b[49m\u001b[43melemento\u001b[49m\u001b[43m)\u001b[49m\n\u001b[1;32m      7\u001b[0m \u001b[38;5;28;01mreturn\u001b[39;00m diccionario_persona\n",
      "\u001b[0;31mValueError\u001b[0m: dictionary update sequence element #0 has length 1; 2 is required"
     ]
    }
   ],
   "source": [
    "# 9. Crear un diccionario con info de una persona\n",
    "\n",
    "def crear_persona (**kwargs):\n",
    "    diccionario_persona = {}\n",
    "    for elemento in kwargs:\n",
    "        diccionario_persona.update(elemento)\n",
    "    return diccionario_persona\n",
    "\n",
    "crear_persona (nombre= \"Karolina\", edad= 33 , ciudad= \"Madrid\")  "
   ]
  }
 ],
 "metadata": {
  "kernelspec": {
   "display_name": "base",
   "language": "python",
   "name": "python3"
  },
  "language_info": {
   "codemirror_mode": {
    "name": "ipython",
    "version": 3
   },
   "file_extension": ".py",
   "mimetype": "text/x-python",
   "name": "python",
   "nbconvert_exporter": "python",
   "pygments_lexer": "ipython3",
   "version": "3.9.12"
  }
 },
 "nbformat": 4,
 "nbformat_minor": 2
}
